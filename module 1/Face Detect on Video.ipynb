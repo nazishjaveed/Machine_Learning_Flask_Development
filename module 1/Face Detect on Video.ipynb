{
 "cells": [
  {
   "cell_type": "markdown",
   "id": "86175a41",
   "metadata": {},
   "source": [
    "# Face Detect On Video"
   ]
  },
  {
   "cell_type": "code",
   "execution_count": 1,
   "id": "b2fdedca",
   "metadata": {},
   "outputs": [],
   "source": [
    "import numpy as np\n",
    "import cv2\n",
    "\n",
    "haar = cv2.CascadeClassifier('./data/haarcascade_frontalface_default.xml')\n",
    "\n",
    "def face_detect(img):\n",
    "    gray = cv2.cvtColor(img, cv2.COLOR_BGR2GRAY)\n",
    "    faces = haar.detectMultiScale(gray, 1.3, 5)\n",
    "    \n",
    "    # Loop through all detected faces\n",
    "    for x, y, w, h in faces:\n",
    "        cv2.rectangle(img, (x, y), (x + w, y + h), (0, 255, 255), 2)\n",
    "    \n",
    "    return img  # Move this line outside the loop\n",
    "\n",
    "cap = cv2.VideoCapture('./data/short video.mp4')\n",
    "\n",
    "while True:\n",
    "    ret, frame = cap.read()\n",
    "    if ret == False:\n",
    "        break\n",
    "    \n",
    "    frame = face_detect(frame)\n",
    "    cv2.imshow('detect', frame)\n",
    "    \n",
    "    # Wait for 1 millisecond and check for key press\n",
    "    if cv2.waitKey(1) & 0xFF == ord('q'):\n",
    "        break\n",
    "\n",
    "cv2.destroyAllWindows()\n",
    "cap.release()"
   ]
  },
  {
   "cell_type": "code",
   "execution_count": null,
   "id": "dcc208b4",
   "metadata": {},
   "outputs": [],
   "source": []
  },
  {
   "cell_type": "code",
   "execution_count": null,
   "id": "29a2b093",
   "metadata": {},
   "outputs": [],
   "source": []
  }
 ],
 "metadata": {
  "kernelspec": {
   "display_name": "Python 3 (ipykernel)",
   "language": "python",
   "name": "python3"
  },
  "language_info": {
   "codemirror_mode": {
    "name": "ipython",
    "version": 3
   },
   "file_extension": ".py",
   "mimetype": "text/x-python",
   "name": "python",
   "nbconvert_exporter": "python",
   "pygments_lexer": "ipython3",
   "version": "3.10.9"
  }
 },
 "nbformat": 4,
 "nbformat_minor": 5
}
